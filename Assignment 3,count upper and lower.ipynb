{
 "cells": [
  {
   "cell_type": "code",
   "execution_count": null,
   "id": "0f7bbd08",
   "metadata": {},
   "outputs": [],
   "source": []
  },
  {
   "cell_type": "code",
   "execution_count": 16,
   "id": "1278572e",
   "metadata": {},
   "outputs": [
    {
     "name": "stdout",
     "output_type": "stream",
     "text": [
      "No. of Upper case characters :  3\n",
      "No. of Lower case Characters :  13\n"
     ]
    }
   ],
   "source": [
    "def string(x):\n",
    "    d={\"UPPERCASE\":0, \"LOWERCASE\":0}\n",
    "    for i in x:\n",
    "        if i.isupper():\n",
    "           d[\"UPPERCASE\"]+=1\n",
    "        elif i.islower():\n",
    "          d[\"LOWERCASE\"]+=1\n",
    "       \n",
    "    print (\"No. of Upper case characters : \", d[\"UPPERCASE\"])\n",
    "    print (\"No. of Lower case Characters : \", d[\"LOWERCASE\"])\n",
    "\n",
    "string('The quick Brown Fox')"
   ]
  },
  {
   "cell_type": "code",
   "execution_count": null,
   "id": "98dc74f8",
   "metadata": {},
   "outputs": [],
   "source": []
  }
 ],
 "metadata": {
  "kernelspec": {
   "display_name": "Python 3 (ipykernel)",
   "language": "python",
   "name": "python3"
  },
  "language_info": {
   "codemirror_mode": {
    "name": "ipython",
    "version": 3
   },
   "file_extension": ".py",
   "mimetype": "text/x-python",
   "name": "python",
   "nbconvert_exporter": "python",
   "pygments_lexer": "ipython3",
   "version": "3.9.12"
  }
 },
 "nbformat": 4,
 "nbformat_minor": 5
}
