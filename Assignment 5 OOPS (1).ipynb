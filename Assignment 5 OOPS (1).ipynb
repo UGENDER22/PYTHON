{
 "cells": [
  {
   "cell_type": "code",
   "execution_count": 38,
   "id": "e599b77b",
   "metadata": {},
   "outputs": [
    {
     "data": {
      "text/plain": [
       "35"
      ]
     },
     "execution_count": 38,
     "metadata": {},
     "output_type": "execute_result"
    }
   ],
   "source": [
    "#challenege 1 square sum\n",
    "class point:\n",
    "    def __init__(self,x,y,z):\n",
    "        self.x=x\n",
    "        self.y=y\n",
    "        self.z=z\n",
    "    def sqSum(self):\n",
    "        sum=self.x**2+self.y**2+self.z**2\n",
    "        return sum\n",
    "a=point(1,3,5)\n",
    "a.sqSum()\n",
    "     "
   ]
  },
  {
   "cell_type": "code",
   "execution_count": 25,
   "id": "2bb04288",
   "metadata": {},
   "outputs": [
    {
     "name": "stdout",
     "output_type": "stream",
     "text": [
      "104\n",
      "84\n",
      "940\n",
      "9.4\n"
     ]
    }
   ],
   "source": [
    "#challenge 2 calculator\n",
    "class calculator:\n",
    "    \n",
    "    def __init__(self,x,y):\n",
    "        self.x=94\n",
    "        self.y=10\n",
    "    def add(self):\n",
    "        add=self.x+self.y\n",
    "        return add\n",
    "    def subtract(self):\n",
    "        subtract=self.x-self.y\n",
    "        return subtract\n",
    "    def multiply(self):\n",
    "        multiply=self.x*self.y\n",
    "        return multiply\n",
    "    def division(self):\n",
    "        division=self.x/self.y\n",
    "        return division\n",
    "x=calculator(10,94)\n",
    "print(x.add())\n",
    "print(x.subtract())\n",
    "print(x.multiply())\n",
    "print(x.division())\n"
   ]
  },
  {
   "cell_type": "code",
   "execution_count": 39,
   "id": "0763d1cc",
   "metadata": {},
   "outputs": [
    {
     "name": "stdout",
     "output_type": "stream",
     "text": [
      "getName called\n",
      "DOG\n",
      "setName called\n",
      "MIA\n",
      "getRollNumber called\n",
      "916\n",
      "setRollNumber called\n",
      "619\n"
     ]
    }
   ],
   "source": [
    "#challenge 3 implement complete student class\n",
    "class Student:\n",
    "    __Name = \"DOG\"\n",
    "    __RollNumber = 916\n",
    "\n",
    "    \n",
    "    def getName(self):\n",
    "        print(\"getName called\")\n",
    "        print( Student.__Name)\n",
    "    def setName(self,N):\n",
    "        print(\"setName called\")\n",
    "        Student.__Name = N\n",
    "        print( Student.__Name  )\n",
    "    def getRollNumber(self):\n",
    "        print(\"getRollNumber called\")\n",
    "        print( Student.__RollNumber)\n",
    "    def setRollNumber(self,R):\n",
    "        print(\"setRollNumber called\")\n",
    "        Student.__RollNumber = R\n",
    "        print( Student.__RollNumber )\n",
    "a = Student()\n",
    "a.getName()\n",
    "a.setName(\"MIA\")\n",
    "a.getRollNumber()\n",
    "a.setRollNumber(619)"
   ]
  },
  {
   "cell_type": "code",
   "execution_count": 37,
   "id": "1198b6af",
   "metadata": {},
   "outputs": [
    {
     "name": "stdout",
     "output_type": "stream",
     "text": [
      "MR Ashish your balance is : 1000\n",
      "MR Ashish  your balance is :  1000 and your intrest is :  5\n"
     ]
    }
   ],
   "source": [
    "#challenge 4  Implement a Banking Account\n",
    "class Account:\n",
    "    def __init__(self,title = None,balance = 0):\n",
    "        self.title = title\n",
    "        self.balance = balance\n",
    "        print(\"MR\",str(self.title) + \" your balance is : \" +str(self.balance))\n",
    "class SavingsAccount(Account):\n",
    "    def __init__(self,title,balance,intrest):\n",
    "        super().__init__(title,balance)\n",
    "        self.intrest = intrest\n",
    "        print(\"MR\",str(self.title) + \"  your balance is :  \" +str(self.balance)+\" and your intrest is :  \"+str(self.intrest))\n",
    "Bank1 = SavingsAccount(\"Ashish\",1000,5)\n",
    "      "
   ]
  },
  {
   "cell_type": "code",
   "execution_count": 22,
   "id": "eac539ed",
   "metadata": {},
   "outputs": [
    {
     "name": "stdout",
     "output_type": "stream",
     "text": [
      "100\n"
     ]
    }
   ],
   "source": [
    "#challenge 5 handling a bank account\n",
    "class Account:\n",
    "    def __init__(self, title=None, balance=0):\n",
    "        self.title = title\n",
    "        self.balance = balance\n",
    "    \n",
    "    def withdraw(self, amount):\n",
    "        self.balance = self.balance - amount\n",
    "        \n",
    "\n",
    "    def deposit(self, amount):\n",
    "        self.balance = self.balance + amount\n",
    "       \n",
    "        \n",
    "    def getBalance(self):\n",
    "        return self.balance\n",
    "        \n",
    "\n",
    "class SavingsAccount(Account):\n",
    "    def __init__(self, title=None, balance=0, interestRate=0):\n",
    "            super().__init__(title, balance)\n",
    "            self.interestRate = interestRate\n",
    "    \n",
    "    def interestAmount(self):\n",
    "        self.interestamount = (self.interestRate*self.balance)/100 \n",
    "        return int(self.interestamount)\n",
    "\n",
    "x = SavingsAccount(\"Ashish\", 2000, 5)\n",
    "\n",
    "x.deposit(500)\n",
    "x.withdraw(500)\n",
    "x.getBalance()\n",
    "print(x.interestAmount())"
   ]
  },
  {
   "cell_type": "code",
   "execution_count": null,
   "id": "488efad0",
   "metadata": {},
   "outputs": [],
   "source": []
  }
 ],
 "metadata": {
  "kernelspec": {
   "display_name": "Python 3 (ipykernel)",
   "language": "python",
   "name": "python3"
  },
  "language_info": {
   "codemirror_mode": {
    "name": "ipython",
    "version": 3
   },
   "file_extension": ".py",
   "mimetype": "text/x-python",
   "name": "python",
   "nbconvert_exporter": "python",
   "pygments_lexer": "ipython3",
   "version": "3.9.12"
  }
 },
 "nbformat": 4,
 "nbformat_minor": 5
}
