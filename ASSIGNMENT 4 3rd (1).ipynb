{
 "cells": [
  {
   "cell_type": "code",
   "execution_count": 10,
   "id": "b5283a38",
   "metadata": {},
   "outputs": [
    {
     "name": "stdout",
     "output_type": "stream",
     "text": [
      "enter 4\n",
      "4 5 2 9\n",
      "[4, 5, 2, 9]\n",
      "[16, 25, 4, 81]\n"
     ]
    }
   ],
   "source": [
    "x = int(input(\"enter \"))\n",
    "y = list(map(int , input().split()))\n",
    "l1 = list(map(lambda n : n**2,y))\n",
    "print(y)\n",
    "print(l1)"
   ]
  }
 ],
 "metadata": {
  "kernelspec": {
   "display_name": "Python 3 (ipykernel)",
   "language": "python",
   "name": "python3"
  },
  "language_info": {
   "codemirror_mode": {
    "name": "ipython",
    "version": 3
   },
   "file_extension": ".py",
   "mimetype": "text/x-python",
   "name": "python",
   "nbconvert_exporter": "python",
   "pygments_lexer": "ipython3",
   "version": "3.9.12"
  }
 },
 "nbformat": 4,
 "nbformat_minor": 5
}
