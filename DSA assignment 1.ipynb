{
 "cells": [
  {
   "cell_type": "code",
   "execution_count": 1,
   "id": "0274366a",
   "metadata": {},
   "outputs": [
    {
     "name": "stdout",
     "output_type": "stream",
     "text": [
      "All pairs of an integer array whose sum is equal to a given number is :   [(1, 4), (2, 3), (-11, 16)]\n"
     ]
    }
   ],
   "source": [
    "#1\n",
    "pairs_of_array_elements = []\n",
    "array = [1,2,3,4,6,-11,16,21,-15,9,-5,8]\n",
    "Sum = 5\n",
    "for a in range(0,len(array)):\n",
    "    for b in range(a+1,len(array)):\n",
    "        if array[a] + array[b] == Sum:\n",
    "            pairs_of_array_elements.append((array[a] , array[b]))\n",
    "print(\"All pairs of an integer array whose sum is equal to a given number is :  \" , pairs_of_array_elements)\n",
    "\n",
    "\n"
   ]
  },
  {
   "cell_type": "code",
   "execution_count": 2,
   "id": "e168b2bb",
   "metadata": {},
   "outputs": [
    {
     "name": "stdout",
     "output_type": "stream",
     "text": [
      "10 5\n",
      "The Reversed array is :  [10, 9, 8, 7, 6, 5, 4, 3, 2, 1]\n"
     ]
    }
   ],
   "source": [
    "#2\n",
    "def Reverse_an_array(array):\n",
    "    LOA = len(array)\n",
    "    for k in range(LOA // 2):\n",
    "        array[k] , array[LOA - k - 1] = array[LOA - k - 1] , array[k]\n",
    "    print(LOA , LOA // 2)\n",
    "array = [1,2,3,4,5,6,7,8,9,10]\n",
    "Reverse_an_array(array)\n",
    "print(\"The Reversed array is : \" , array)"
   ]
  },
  {
   "cell_type": "code",
   "execution_count": 3,
   "id": "e61ebf2b",
   "metadata": {},
   "outputs": [
    {
     "name": "stdout",
     "output_type": "stream",
     "text": [
      "Strings are rotations of each other\n"
     ]
    }
   ],
   "source": [
    "#3\n",
    "def check_rotation(s, goal):\n",
    "\n",
    "    if (len(s) != len(goal)):\n",
    "        skip\n",
    "\n",
    "    q1 = []\n",
    "    for i in range(len(s)):\n",
    "        q1.insert(0, s[i])\n",
    "\n",
    "    q2 = []\n",
    "    for i in range(len(goal)):\n",
    "        q2.insert(0, goal[i])\n",
    "\n",
    "    k = len(goal)\n",
    "    while (k > 0):\n",
    "        ch = q2[0]\n",
    "        q2.pop(0)\n",
    "        q2.append(ch)\n",
    "        if (q2 == q1):\n",
    "            return True\n",
    "\n",
    "        k -= 1\n",
    "\n",
    "    return False\n",
    "\n",
    "if __name__ == \"__main__\":\n",
    "\n",
    "    string1 = \"AACD\"\n",
    "    string2 = \"ACDA\"\n",
    "\n",
    "    if check_rotation(string1, string2):\n",
    "        print(\"Strings are rotations of each other\")\n",
    "    else:\n",
    "        print(\"Strings are not rotations of each other\")\n"
   ]
  },
  {
   "cell_type": "code",
   "execution_count": 4,
   "id": "148705d3",
   "metadata": {},
   "outputs": [
    {
     "name": "stdout",
     "output_type": "stream",
     "text": [
      "game\n",
      "First non-repeating character is g\n"
     ]
    }
   ],
   "source": [
    "#4\n",
    "string = input()\n",
    "index = -1\n",
    "fnc = \"\"\n",
    "for i in string:\n",
    "    if string.count(i) == 1:\n",
    "        fnc += i\n",
    "        break\n",
    "    else:\n",
    "        index += 1\n",
    "if index == 1:\n",
    "    print(\"Either all characters are repeating or string is empty\")\n",
    "else:\n",
    "    print(\"First non-repeating character is\", fnc)"
   ]
  },
  {
   "cell_type": "code",
   "execution_count": 5,
   "id": "2057c556",
   "metadata": {},
   "outputs": [
    {
     "name": "stdout",
     "output_type": "stream",
     "text": [
      "Move disk 1 from rod A to rod C\n",
      "Move disk 2 from rod A to rod B\n",
      "Move disk 1 from rod C to rod B\n",
      "Move disk 3 from rod A to rod C\n",
      "Move disk 1 from rod B to rod A\n",
      "Move disk 2 from rod B to rod C\n",
      "Move disk 1 from rod A to rod C\n"
     ]
    }
   ],
   "source": [
    "#5\n",
    "def TowerOfHanoi(n, from_rod, to_rod, aux_rod):\n",
    "    if n == 0:\n",
    "        return\n",
    "    TowerOfHanoi(n-1, from_rod, aux_rod, to_rod)\n",
    "    print(\"Move disk\", n, \"from rod\", from_rod, \"to rod\", to_rod)\n",
    "    TowerOfHanoi(n-1, aux_rod, to_rod, from_rod)\n",
    "\n",
    "N = 3\n",
    "\n",
    "TowerOfHanoi(N, 'A', 'C', 'B')"
   ]
  },
  {
   "cell_type": "code",
   "execution_count": 6,
   "id": "5c9683b0",
   "metadata": {},
   "outputs": [
    {
     "name": "stdout",
     "output_type": "stream",
     "text": [
      "ABC/-AK/L-*\n"
     ]
    }
   ],
   "source": [
    "#6\n",
    "s = \"*-A/BC-/AKL\"\n",
    "stack = []\n",
    "\n",
    "operators = set(['+', '-', '*', '/', '^'])\n",
    "\n",
    "s = s[::-1]\n",
    "for i in s:\n",
    "\n",
    "    if i in operators:\n",
    "        a = stack.pop()\n",
    "        b = stack.pop()\n",
    "        temp = a+b+i\n",
    "        stack.append(temp)\n",
    "\n",
    "    else:\n",
    "        stack.append(i)\n",
    "\n",
    "print(*stack)"
   ]
  },
  {
   "cell_type": "code",
   "execution_count": 7,
   "id": "ad12da44",
   "metadata": {},
   "outputs": [
    {
     "name": "stdout",
     "output_type": "stream",
     "text": [
      "((A-(B/C))*((A/K)-L))\n"
     ]
    }
   ],
   "source": [
    "#7\n",
    "def prefixToInfix(prefix):\n",
    "    stack = []\n",
    "    \n",
    "    i = len(prefix) - 1\n",
    "    while i >= 0:\n",
    "        if not isOperator(prefix[i]):\n",
    "            \n",
    "            stack.append(prefix[i])\n",
    "            i -= 1\n",
    "        else:\n",
    "        \n",
    "                \n",
    "            str = \"(\" + stack.pop() + prefix[i] + stack.pop() + \")\"\n",
    "            stack.append(str)\n",
    "            i -= 1\n",
    "        \n",
    "    return stack.pop()\n",
    "\n",
    "def isOperator(c):\n",
    "    if c == \"*\" or c == \"+\" or c == \"-\" or c == \"/\" or c == \"^\" or c == \"(\" or c == \")\":\n",
    "        return True\n",
    "    else:\n",
    "        return False\n",
    "if __name__==\"__main__\":\n",
    "    str = \"*-A/BC-/AKL\"\n",
    "    print(prefixToInfix(str))\n"
   ]
  },
  {
   "cell_type": "code",
   "execution_count": 1,
   "id": "f25fba0f",
   "metadata": {},
   "outputs": [
    {
     "name": "stdout",
     "output_type": "stream",
     "text": [
      "Balanced\n"
     ]
    }
   ],
   "source": [
    "#8\n",
    "def areBracketsBalanced(expr):\n",
    "    stack = []\n",
    "    for char in expr:\n",
    "        if char in [\"(\", \"{\", \"[\"]:\n",
    "\n",
    "           \n",
    "            stack.append(char)\n",
    "        else:\n",
    "\n",
    "\n",
    "            if not stack:\n",
    "                return False\n",
    "            current_char = stack.pop()\n",
    "            if current_char == '(':\n",
    "                if char != \")\":\n",
    "                    return False\n",
    "            if current_char == '{':\n",
    "                if char != \"}\":\n",
    "                    return False\n",
    "            if current_char == '[':\n",
    "                if char != \"]\":\n",
    "                    return False\n",
    "\n",
    "    if stack:\n",
    "        return False\n",
    "    return True\n",
    "\n",
    "if __name__ == \"__main__\":\n",
    "    expr = \"{()}[]\"\n",
    "\n",
    "    # Function call\n",
    "    if areBracketsBalanced(expr):\n",
    "        print(\"Balanced\")\n",
    "    else:\n",
    "        print(\"Not Balanced\")"
   ]
  },
  {
   "cell_type": "code",
   "execution_count": 5,
   "id": "297e67ee",
   "metadata": {},
   "outputs": [
    {
     "name": "stdout",
     "output_type": "stream",
     "text": [
      "Original Stack\n",
      "5\n",
      "4\n",
      "3\n",
      "2\n",
      "1\n",
      "\n",
      "Stack after Reversing\n",
      "1\n",
      "2\n",
      "3\n",
      "4\n",
      "5\n"
     ]
    }
   ],
   "source": [
    "#9\n",
    "class Stack:\n",
    "\n",
    "\n",
    "    def __init__(self):\n",
    "        self.Elements = []\n",
    "\n",
    "\n",
    "    def push(self, value):\n",
    "        self.Elements.append(value)\n",
    "    \n",
    "    \n",
    "    def pop(self):\n",
    "        return self.Elements.pop()\n",
    "        \n",
    "    def empty(self):\n",
    "        return self.Elements == []\n",
    "    \n",
    "    \n",
    "    def show(self):\n",
    "        for value in reversed(self.Elements):\n",
    "            print(value)\n",
    "\n",
    "def BottomInsert(s, value):\n",
    "\n",
    "    if s.empty():\n",
    "        \n",
    "\n",
    "        s.push(value)\n",
    "        \n",
    "    else:\n",
    "        popped = s.pop()\n",
    "        BottomInsert(s, value)\n",
    "        s.push(popped)\n",
    "\n",
    "\n",
    "def Reverse(s):\n",
    "    if s.empty():\n",
    "        pass\n",
    "    else:\n",
    "        popped = s.pop()\n",
    "        Reverse(s)\n",
    "        BottomInsert(s, popped)\n",
    "\n",
    "stk = Stack()\n",
    "\n",
    "stk.push(1)\n",
    "stk.push(2)\n",
    "stk.push(3)\n",
    "stk.push(4)\n",
    "stk.push(5)\n",
    "\n",
    "print(\"Original Stack\")\n",
    "stk.show()\n",
    "\n",
    "print(\"\\nStack after Reversing\")\n",
    "Reverse(stk)\n",
    "stk.show()"
   ]
  },
  {
   "cell_type": "code",
   "execution_count": 4,
   "id": "49ddf321",
   "metadata": {},
   "outputs": [
    {
     "name": "stdout",
     "output_type": "stream",
     "text": [
      "-3\n",
      "-2\n",
      "-2\n"
     ]
    }
   ],
   "source": [
    "#10\n",
    "class MinStack(object):\n",
    "    min=float('inf')\n",
    "    def __init__(self):\n",
    "        self.min=float('inf')\n",
    "        self.stack = []\n",
    "    def push(self, x):\n",
    "        if x<=self.min:\n",
    "            self.stack.append(self.min)\n",
    "            self.min = x\n",
    "            self.stack.append(x)\n",
    "    def pop(self):\n",
    "        t = self.stack[-1]\n",
    "        self.stack.pop()\n",
    "        if self.min == t:\n",
    "            self.min = self.stack[-1]\n",
    "            self.stack.pop()\n",
    "    def top(self):\n",
    "        return self.stack[-1]\n",
    "    def getMin(self):\n",
    "        return self.min\n",
    "m = MinStack()\n",
    "m.push(-2)\n",
    "m.push(0)\n",
    "m.push(-3)\n",
    "print(m.getMin())\n",
    "m.pop()\n",
    "print(m.top())\n",
    "print(m.getMin())"
   ]
  }
 ],
 "metadata": {
  "kernelspec": {
   "display_name": "Python 3 (ipykernel)",
   "language": "python",
   "name": "python3"
  },
  "language_info": {
   "codemirror_mode": {
    "name": "ipython",
    "version": 3
   },
   "file_extension": ".py",
   "mimetype": "text/x-python",
   "name": "python",
   "nbconvert_exporter": "python",
   "pygments_lexer": "ipython3",
   "version": "3.9.12"
  }
 },
 "nbformat": 4,
 "nbformat_minor": 5
}
