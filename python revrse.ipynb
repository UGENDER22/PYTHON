{
 "cells": [
  {
   "cell_type": "code",
   "execution_count": 12,
   "id": "579b154c",
   "metadata": {},
   "outputs": [
    {
     "name": "stdout",
     "output_type": "stream",
     "text": [
      "friend\n",
      "dneirf\n"
     ]
    }
   ],
   "source": [
    "\n",
    "a =input()\n",
    "reverse_a = \"\"\n",
    "for char in a:\n",
    "    reverse_a = char + reverse_a\n",
    "print(reverse_a)  \n"
   ]
  },
  {
   "cell_type": "code",
   "execution_count": null,
   "id": "c5d439ec",
   "metadata": {},
   "outputs": [],
   "source": []
  },
  {
   "cell_type": "code",
   "execution_count": null,
   "id": "5eb60887",
   "metadata": {},
   "outputs": [],
   "source": []
  }
 ],
 "metadata": {
  "kernelspec": {
   "display_name": "Python 3 (ipykernel)",
   "language": "python",
   "name": "python3"
  },
  "language_info": {
   "codemirror_mode": {
    "name": "ipython",
    "version": 3
   },
   "file_extension": ".py",
   "mimetype": "text/x-python",
   "name": "python",
   "nbconvert_exporter": "python",
   "pygments_lexer": "ipython3",
   "version": "3.9.12"
  }
 },
 "nbformat": 4,
 "nbformat_minor": 5
}
