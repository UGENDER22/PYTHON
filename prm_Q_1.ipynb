{
 "cells": [
  {
   "cell_type": "code",
   "execution_count": 1,
   "id": "ca533322",
   "metadata": {},
   "outputs": [
    {
     "name": "stdout",
     "output_type": "stream",
     "text": [
      "4\n",
      "great\n",
      "hello\n",
      "hiyo\n",
      "abc\n",
      "['great', 'abc', 'hello', 'hiyo']\n"
     ]
    }
   ],
   "source": [
    "u = int(input()) \n",
    "str1 = []\n",
    "for i in range(u):\n",
    "    str1.append(input())\n",
    "\n",
    "str1.sort(key=lambda g: g[-2])\n",
    "print(str1)"
   ]
  },
  {
   "cell_type": "code",
   "execution_count": null,
   "id": "b962eb23",
   "metadata": {},
   "outputs": [],
   "source": []
  }
 ],
 "metadata": {
  "kernelspec": {
   "display_name": "Python 3",
   "language": "python",
   "name": "python3"
  },
  "language_info": {
   "codemirror_mode": {
    "name": "ipython",
    "version": 3
   },
   "file_extension": ".py",
   "mimetype": "text/x-python",
   "name": "python",
   "nbconvert_exporter": "python",
   "pygments_lexer": "ipython3",
   "version": "3.8.8"
  }
 },
 "nbformat": 4,
 "nbformat_minor": 5
}
