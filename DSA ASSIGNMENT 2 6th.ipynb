{
 "cells": [
  {
   "cell_type": "code",
   "execution_count": 6,
   "id": "dd8c45c0",
   "metadata": {},
   "outputs": [
    {
     "name": "stdout",
     "output_type": "stream",
     "text": [
      "2\n"
     ]
    }
   ],
   "source": [
    "def longestConsecutiveSubsequence(arr):\n",
    "    s=set()\n",
    "    for ele in arr:\n",
    "        s.add(ele)\n",
    "        ans=0\n",
    "        for ele in arr:\n",
    "            if (ele-1)not in s:\n",
    "                temp=ele\n",
    "                count=1\n",
    "                while(temp+1) in s:\n",
    "                    temp+=1\n",
    "                    count+=1\n",
    "                ans = max(ans,count)\n",
    "        return ans\n",
    "arr = [36,31,41,56,35,44,33,34,92,43,32,42,45,46,47,48,49,50]\n",
    "print(longestConsecutiveSubsequence(arr))"
   ]
  }
 ],
 "metadata": {
  "kernelspec": {
   "display_name": "Python 3 (ipykernel)",
   "language": "python",
   "name": "python3"
  },
  "language_info": {
   "codemirror_mode": {
    "name": "ipython",
    "version": 3
   },
   "file_extension": ".py",
   "mimetype": "text/x-python",
   "name": "python",
   "nbconvert_exporter": "python",
   "pygments_lexer": "ipython3",
   "version": "3.9.12"
  }
 },
 "nbformat": 4,
 "nbformat_minor": 5
}
