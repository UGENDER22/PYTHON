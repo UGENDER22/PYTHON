{
 "cells": [
  {
   "cell_type": "code",
   "execution_count": 4,
   "id": "0f7bbd08",
   "metadata": {},
   "outputs": [
    {
     "name": "stdout",
     "output_type": "stream",
     "text": [
      "dcba4321\n"
     ]
    }
   ],
   "source": [
    "def reversed(x):\n",
    "\tstr = \"\"\n",
    "\tfor i in x:\n",
    "\t\tstr = i + str\n",
    "\treturn str\n",
    "\n",
    "x = \"1234abcd\"\n",
    "print(end=\"\")\n",
    "print(reversed(x))"
   ]
  },
  {
   "cell_type": "code",
   "execution_count": null,
   "id": "b9cacb37",
   "metadata": {},
   "outputs": [],
   "source": []
  }
 ],
 "metadata": {
  "kernelspec": {
   "display_name": "Python 3 (ipykernel)",
   "language": "python",
   "name": "python3"
  },
  "language_info": {
   "codemirror_mode": {
    "name": "ipython",
    "version": 3
   },
   "file_extension": ".py",
   "mimetype": "text/x-python",
   "name": "python",
   "nbconvert_exporter": "python",
   "pygments_lexer": "ipython3",
   "version": "3.9.12"
  }
 },
 "nbformat": 4,
 "nbformat_minor": 5
}
