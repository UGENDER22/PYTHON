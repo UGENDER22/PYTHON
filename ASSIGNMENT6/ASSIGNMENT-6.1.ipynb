{
 "cells": [
  {
   "cell_type": "code",
   "execution_count": 8,
   "id": "b7c16adb",
   "metadata": {},
   "outputs": [
    {
     "name": "stdout",
     "output_type": "stream",
     "text": [
      "{'Name': 'johnny', 'DOB': '02-09-1990', 'Height': '6.5', 'City': 'California', 'State': 'los'}\n",
      "{'Name': 'Karthik', 'DOB': '23-11-1998', 'Height': '5.11', 'City': 'warangal', 'State': 'TS'}\n",
      "{'Name': 'Ugender', 'DOB': '29-06-1998', 'Height': '6.0', 'City': 'Mahabubabad', 'State': 'TS'}\n",
      "{'Name': 'Emma', 'DOB': '20-09-1998', 'Height': '6.0', 'City': 'London', 'State': 'UK'}\n",
      "{'Name': 'Izzy', 'DOB': '09-09-1998', 'Height': '5.8', 'City': 'minnesota', 'State': 'America'}\n"
     ]
    }
   ],
   "source": [
    "#ASSIGNMENT6.1\n",
    "import json\n",
    "employee_details={\"1.\":{\"Name\":\"johnny\",\"DOB\":\"02-09-1990\",\"Height\":\"6.5\",\"City\":\"California\",\"State\":\"los\"},\n",
    "         \"2.\":{\"Name\":\"Karthik\",\"DOB\":\"23-11-1998\",\"Height\":\"5.11\",\"City\":\"warangal\",\"State\":\"TS\"},\n",
    "         \"3.\":{\"Name\":\"Ugender\",\"DOB\":\"29-06-1998\",\"Height\":\"6.0\",\"City\":\"Mahabubabad\",\"State\":\"TS\"},\n",
    "         \"4.\":{\"Name\":\"Emma\",\"DOB\":\"20-09-1998\",\"Height\":\"6.0\",\"City\":\"London\",\"State\":\"UK\"},\n",
    "         \"5.\":{\"Name\":\"Izzy\",\"DOB\":\"09-09-1998\",\"Height\":\"5.8\",\"City\":\"minnesota\",\"State\":\"America\"}}\n",
    "with open(\"employee.json\",\"w\")as d:\n",
    "    json.dump(employee_details,d)\n",
    "with open(\"employee.json\",\"r\")as d:\n",
    "    x=json.load(d)\n",
    "    #u=x.values()\n",
    "for i in x.values():\n",
    "    print(i)"
   ]
  },
  {
   "cell_type": "code",
   "execution_count": 10,
   "id": "11df551e",
   "metadata": {},
   "outputs": [
    {
     "name": "stdout",
     "output_type": "stream",
     "text": [
      "successfully imported\n",
      "Andhra Pradesh - Amaravathi\n",
      "successfully got the details\n"
     ]
    }
   ],
   "source": [
    "#ASSIGNMENT6.2\n",
    "import json\n",
    "def states_capitals():\n",
    "    information = {\"Andhra Pradesh\":\"Amaravathi\",\"Hyderabad\":\"Telangana\",\"Sikkim\":\"Gangtok\",\"GUJARAT\":\"SURAT\",\"Maharastra\":\"Mumbai\",\"KARNATAKA\":\"BENGULURE\",\"UttarPradesh\":\"Lucknow\"}\n",
    "    with open(\"states_capitals.json\",\"w\") as f:\n",
    "        json.dump(information,f)\n",
    "    return \"successfully imported\"\n",
    "def information():\n",
    "    with open(\"states_capitals.json\",\"r\") as f:\n",
    "        x = json.load(f)\n",
    "    for k,v in x.items():\n",
    "        c = ((k) + \" - \" +(v))\n",
    "        print(c)\n",
    "        return \"successfully got the details\"\n",
    "        \n",
    "print(states_capitals())\n",
    "print(information())"
   ]
  },
  {
   "cell_type": "code",
   "execution_count": 6,
   "id": "0896aa0e",
   "metadata": {},
   "outputs": [
    {
     "name": "stdout",
     "output_type": "stream",
     "text": [
      "('lab', 2)\n",
      "white\n",
      "arf\n",
      "bow\n"
     ]
    }
   ],
   "source": [
    "#ASSIGNMENT6.3\n",
    "class dog:\n",
    "    def __init__(self,name,age,coat_colour):\n",
    "        self.name=name\n",
    "        self.age=age\n",
    "        self.coat_colour=coat_colour\n",
    "    def description(self):\n",
    "        return(self.name,self.age)\n",
    "    def get_info(self):\n",
    "        return(self.coat_colour)\n",
    "class jackrussellterrier(dog):\n",
    "    def speak(self,sound=\"arf\"):\n",
    "        self.sound=sound\n",
    "        return (self.sound)\n",
    "class Bulldog(dog):\n",
    "    def barks(self,barks=\"bow\"):\n",
    "        self.barks=barks\n",
    "        return(self.barks)\n",
    "x=dog(\"lab\",2,\"white\")\n",
    "print(x.description())\n",
    "print(x.get_info())\n",
    "x=jackrussellterrier(\"lab\",2,\"white\")\n",
    "print(x.speak())\n",
    "x=Bulldog(\"lab\",2,\"white\")\n",
    "print(x.barks())"
   ]
  }
 ],
 "metadata": {
  "kernelspec": {
   "display_name": "Python 3 (ipykernel)",
   "language": "python",
   "name": "python3"
  },
  "language_info": {
   "codemirror_mode": {
    "name": "ipython",
    "version": 3
   },
   "file_extension": ".py",
   "mimetype": "text/x-python",
   "name": "python",
   "nbconvert_exporter": "python",
   "pygments_lexer": "ipython3",
   "version": "3.9.12"
  }
 },
 "nbformat": 4,
 "nbformat_minor": 5
}
