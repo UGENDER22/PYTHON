{
 "cells": [
  {
   "cell_type": "code",
   "execution_count": 1,
   "id": "aa28a040",
   "metadata": {},
   "outputs": [
    {
     "data": {
      "text/plain": [
       "[5, 2, 3, 4, 1]"
      ]
     },
     "execution_count": 1,
     "metadata": {},
     "output_type": "execute_result"
    }
   ],
   "source": [
    "#    swaping 1st and last\n",
    "x = [1,2,3,4,5]\n",
    "y = x[0]\n",
    "z = x[4]\n",
    "x[0] = z\n",
    "x[4] = y\n",
    "x"
   ]
  },
  {
   "cell_type": "code",
   "execution_count": 2,
   "id": "45d46201",
   "metadata": {},
   "outputs": [
    {
     "data": {
      "text/plain": [
       "[5, 2, 3, 4, 1]"
      ]
     },
     "execution_count": 2,
     "metadata": {},
     "output_type": "execute_result"
    }
   ],
   "source": [
    "x = [1,2,3,4,5]\n",
    "y = len(x)\n",
    "a = x[0]\n",
    "x[0]= x[y-1]\n",
    "x[y-1]=a\n",
    "x\n"
   ]
  },
  {
   "cell_type": "code",
   "execution_count": 3,
   "id": "099b79f6",
   "metadata": {},
   "outputs": [
    {
     "data": {
      "text/plain": [
       "[9, 2, 3, 4, 5, 6, 7, 8, 1]"
      ]
     },
     "execution_count": 3,
     "metadata": {},
     "output_type": "execute_result"
    }
   ],
   "source": [
    "Anu_List = [1,2,3,4,5,6,7,8,9]\n",
    "#print(\"The original list is : \", Anu_List)\n",
    "Length = len(Anu_List)\n",
    "#print(Length)\n",
    "Anu = Anu_List[0]\n",
    "Anu_List[0] = Anu_List[Length - 1]\n",
    "Anu_List[Length - 1] = Anu\n",
    "Anu_List"
   ]
  },
  {
   "cell_type": "code",
   "execution_count": 4,
   "id": "586ddadf",
   "metadata": {},
   "outputs": [
    {
     "name": "stdout",
     "output_type": "stream",
     "text": [
      "enter a number in a list: 6\n",
      "original list  [0, 1, 2, 3, 4, 5]\n",
      "new list [5, 1, 2, 3, 4, 0]\n"
     ]
    }
   ],
   "source": [
    "x=list()\n",
    "y=int(input(\"enter a number in a list: \"))\n",
    "for i in range(0,y):\n",
    "    #ele=int(input(\"enter a ele \"))\n",
    "    x.append(i)\n",
    "print(\"original list \",x)\n",
    "first_element=x.pop(0)\n",
    "last_element=x.pop(-1)\n",
    "x.insert(0,last_element)\n",
    "x.append(first_element)\n",
    "print(\"new list\",x)"
   ]
  },
  {
   "cell_type": "code",
   "execution_count": 5,
   "id": "7d57e1f3",
   "metadata": {},
   "outputs": [
    {
     "data": {
      "text/plain": [
       "['s', 't', 'r', 'i', 'n', 'g']"
      ]
     },
     "execution_count": 5,
     "metadata": {},
     "output_type": "execute_result"
    }
   ],
   "source": [
    "x = \"string\"\n",
    "y = x[::-1]\n",
    "z = []\n",
    "for i in x:\n",
    "    z.append(i)\n",
    "z"
   ]
  },
  {
   "cell_type": "code",
   "execution_count": 6,
   "id": "e85884dc",
   "metadata": {},
   "outputs": [
    {
     "name": "stdout",
     "output_type": "stream",
     "text": [
      "13\n",
      "13\n",
      "13\n"
     ]
    }
   ],
   "source": [
    "# length\n",
    "\n",
    "f = [0,1,2,3,4,5,6,7,8,9,10,11,12]\n",
    "print(len(f))\n",
    "\n",
    "count = 0\n",
    "for b in f:\n",
    "    count += 1\n",
    "print(count)\n",
    "\n",
    "from operator import length_hint\n",
    "print(length_hint(f))"
   ]
  },
  {
   "cell_type": "code",
   "execution_count": 7,
   "id": "471b8d68",
   "metadata": {},
   "outputs": [
    {
     "data": {
      "text/plain": [
       "[]"
      ]
     },
     "execution_count": 7,
     "metadata": {},
     "output_type": "execute_result"
    }
   ],
   "source": [
    "f = [0,1,2,3,4,5,6,7,8,9,10,11,12]\n",
    "f.clear()\n",
    "f"
   ]
  },
  {
   "cell_type": "code",
   "execution_count": 8,
   "id": "5ffafc6c",
   "metadata": {},
   "outputs": [
    {
     "name": "stdout",
     "output_type": "stream",
     "text": [
      "[12, 11, 10, 9, 8, 7, 6, 5, 4, 3, 2, 1, 0]\n"
     ]
    },
    {
     "data": {
      "text/plain": [
       "[0, 1, 2, 3, 4, 5, 6, 7, 8, 9, 10, 11, 12]"
      ]
     },
     "execution_count": 8,
     "metadata": {},
     "output_type": "execute_result"
    }
   ],
   "source": [
    "#reverse\n",
    "f = [0,1,2,3,4,5,6,7,8,9,10,11,12]\n",
    "f.reverse()\n",
    "print(f)\n",
    "x = f[::-1]\n",
    "x"
   ]
  },
  {
   "cell_type": "code",
   "execution_count": 9,
   "id": "f7366fa4",
   "metadata": {},
   "outputs": [
    {
     "name": "stdout",
     "output_type": "stream",
     "text": [
      "[0, 1, 2, 3, 4, 5, 6, 7, 8, 9, 10, 11, 12]\n",
      "853724063424\n",
      "853724063424\n",
      "853726420672\n"
     ]
    },
    {
     "data": {
      "text/plain": [
       "[0, 1, 2, 3, 4, 5, 6, 7, 8, 9, 10, 11, 12]"
      ]
     },
     "execution_count": 9,
     "metadata": {},
     "output_type": "execute_result"
    }
   ],
   "source": [
    "f = [0,1,2,3,4,5,6,7,8,9,10,11,12]\n",
    "a =f.copy()\n",
    "x = f\n",
    "print(x)\n",
    "print(id(f))\n",
    "print(id(x))\n",
    "print(id(a))\n",
    "a"
   ]
  },
  {
   "cell_type": "code",
   "execution_count": 10,
   "id": "77c33a2f",
   "metadata": {},
   "outputs": [
    {
     "data": {
      "text/plain": [
       "2"
      ]
     },
     "execution_count": 10,
     "metadata": {},
     "output_type": "execute_result"
    }
   ],
   "source": [
    "f = [0,1,2,3,4,5,6,7,8,9,10,11,12,12]\n",
    "f.count(12)"
   ]
  },
  {
   "cell_type": "code",
   "execution_count": 11,
   "id": "49856174",
   "metadata": {},
   "outputs": [
    {
     "name": "stdout",
     "output_type": "stream",
     "text": [
      "[]\n",
      "0\n",
      "0\n"
     ]
    }
   ],
   "source": [
    "f = [0,11,12,12,12]\n",
    "x = []\n",
    "count = 0\n",
    "for i in f:\n",
    "    if i in x:\n",
    "        #print(i,end=\" \")\n",
    "        count+=1\n",
    "print(x)\n",
    "print(len(x))\n",
    "print(count)"
   ]
  },
  {
   "cell_type": "code",
   "execution_count": 12,
   "id": "e7707543",
   "metadata": {},
   "outputs": [
    {
     "name": "stdout",
     "output_type": "stream",
     "text": [
      "6\n",
      "78\n"
     ]
    }
   ],
   "source": [
    "# sum and average in length\n",
    "\n",
    "f = [0,1,2,3,4,5,6,7,8,9,10,11,12]\n",
    "sum = 0\n",
    "for i in f:\n",
    "    sum+=i\n",
    "print(sum//len(f))\n",
    "print(sum)\n"
   ]
  },
  {
   "cell_type": "code",
   "execution_count": 13,
   "id": "7f7b1108",
   "metadata": {},
   "outputs": [
    {
     "data": {
      "text/plain": [
       "720"
      ]
     },
     "execution_count": 13,
     "metadata": {},
     "output_type": "execute_result"
    }
   ],
   "source": [
    "#multiply in list\n",
    "f = [0,1,2,3,4,5,6]\n",
    "multiply = 1\n",
    "for i in f:\n",
    "    if i==0:\n",
    "        continue\n",
    "    multiply*=i\n",
    "multiply"
   ]
  },
  {
   "cell_type": "code",
   "execution_count": 14,
   "id": "797821a7",
   "metadata": {},
   "outputs": [
    {
     "data": {
      "text/plain": [
       "[3, 7, 11, 15]"
      ]
     },
     "execution_count": 14,
     "metadata": {},
     "output_type": "execute_result"
    }
   ],
   "source": [
    "# sum digits\n",
    "f = [12,34,56,78]\n",
    "x = []\n",
    "for i in f:\n",
    "    sum = 0\n",
    "    for j in str(i):\n",
    "        sum +=int(j)\n",
    "    x.append(sum)\n",
    "x\n",
    "  "
   ]
  },
  {
   "cell_type": "code",
   "execution_count": 15,
   "id": "0681e487",
   "metadata": {},
   "outputs": [
    {
     "data": {
      "text/plain": [
       "12"
      ]
     },
     "execution_count": 15,
     "metadata": {},
     "output_type": "execute_result"
    }
   ],
   "source": [
    "f = [0,1,2,3,4,5,6,7,8,9,10,11,12]\n",
    "max(f)"
   ]
  },
  {
   "cell_type": "code",
   "execution_count": 16,
   "id": "a6be6c67",
   "metadata": {},
   "outputs": [
    {
     "data": {
      "text/plain": [
       "0"
      ]
     },
     "execution_count": 16,
     "metadata": {},
     "output_type": "execute_result"
    }
   ],
   "source": [
    "f = [0,1,2,3,4,5,6,7,8,9,10,11,12]\n",
    "min(f)"
   ]
  },
  {
   "cell_type": "code",
   "execution_count": 17,
   "id": "10a8ff67",
   "metadata": {},
   "outputs": [
    {
     "data": {
      "text/plain": [
       "6"
      ]
     },
     "execution_count": 17,
     "metadata": {},
     "output_type": "execute_result"
    }
   ],
   "source": [
    "# centre\n",
    "f = [0,1,2,3,4,5,6,7,8,9,10,11,12]\n",
    "x = len(f)//2\n",
    "f[x]"
   ]
  },
  {
   "cell_type": "code",
   "execution_count": 18,
   "id": "75ce5a1c",
   "metadata": {},
   "outputs": [
    {
     "name": "stdout",
     "output_type": "stream",
     "text": [
      "[0, 1, 2, 3, 4, 5, 6, 7, 8, 9, 10, 11]\n",
      "11\n",
      "[0, 1, 2, 3, 4, 5, 6, 7, 8, 9, 10, 11, 12]\n"
     ]
    }
   ],
   "source": [
    "# second largest\n",
    "f = [0,1,2,3,4,5,6,7,8,9,10,11,12]\n",
    "a = f.pop(max(f))\n",
    "print(f)\n",
    "print(max(f))\n",
    "f.append(a)\n",
    "print(f)"
   ]
  },
  {
   "cell_type": "code",
   "execution_count": 19,
   "id": "c8ef56a2",
   "metadata": {},
   "outputs": [
    {
     "name": "stdout",
     "output_type": "stream",
     "text": [
      "[0, 3, 4, 6, 8, 9, 10, 11, 12, 13, 15, 17, 22]\n"
     ]
    },
    {
     "data": {
      "text/plain": [
       "17"
      ]
     },
     "execution_count": 19,
     "metadata": {},
     "output_type": "execute_result"
    }
   ],
   "source": [
    "f = [0,13,22,3,4,15,6,17,8,9,10,11,12]\n",
    "x = sorted(f)\n",
    "print(x)\n",
    "z = x[-2]\n",
    "z"
   ]
  },
  {
   "cell_type": "code",
   "execution_count": 22,
   "id": "ab2d8fd6",
   "metadata": {},
   "outputs": [
    {
     "name": "stdout",
     "output_type": "stream",
     "text": [
      "{1: 5, 2: 2, 5: 1, 4: 3, 3: 3, 9: 3, 7: 2, 'hello': 2}\n"
     ]
    }
   ],
   "source": [
    "#duplicates count\n",
    "c = [1,1,1,1,1,2,2,5,4,4,4,3,3,3,9,9,9,7,7,\"hello\",\"hello\"]\n",
    "d = {}\n",
    "\n",
    "for i in c:\n",
    "    d[i] = c.count(i)\n",
    "print(d)"
   ]
  },
  {
   "cell_type": "code",
   "execution_count": 21,
   "id": "e543cdf5",
   "metadata": {},
   "outputs": [
    {
     "name": "stdout",
     "output_type": "stream",
     "text": [
      "[0, 2, 4, 6, 8, 10, 12]\n",
      "[1, 3, 5, 7, 9, 11]\n",
      "7\n",
      "6\n",
      "42\n",
      "36\n"
     ]
    }
   ],
   "source": [
    "f = [0,1,2,3,4,5,6,7,8,9,10,11,12]\n",
    "x = []\n",
    "y = []\n",
    "count = 0\n",
    "odd = 0\n",
    "for i in f:\n",
    "    if i%2==0:\n",
    "        count+=i\n",
    "        x.append(i)\n",
    "    else:\n",
    "        odd+=i\n",
    "        y.append(i)\n",
    "print(x)\n",
    "print(y)\n",
    "print(len(x))\n",
    "print(len(y))\n",
    "print(count)\n",
    "print(odd)"
   ]
  },
  {
   "cell_type": "code",
   "execution_count": 23,
   "id": "a369cf1f",
   "metadata": {},
   "outputs": [
    {
     "data": {
      "text/plain": [
       "[0, 1, 3, 5, 7, 8, 9, 11, 12]"
      ]
     },
     "execution_count": 23,
     "metadata": {},
     "output_type": "execute_result"
    }
   ],
   "source": [
    "# Positive numbers\n",
    "f = [0,1,-2,3,-4,5,-6,7,8,9,-10,11,12]\n",
    "x = []\n",
    "for i in f:\n",
    "    if i>=0:\n",
    "        x.append(i)\n",
    "x"
   ]
  },
  {
   "cell_type": "code",
   "execution_count": 24,
   "id": "b5daeb32",
   "metadata": {},
   "outputs": [
    {
     "data": {
      "text/plain": [
       "[-3, -6, -10]"
      ]
     },
     "execution_count": 24,
     "metadata": {},
     "output_type": "execute_result"
    }
   ],
   "source": [
    "f = [0,1,2,-3,4,5,-6,7,8,9,-10,11,12]\n",
    "x  = []\n",
    "for i in f:\n",
    "    if i<0:\n",
    "        x.append(i)\n",
    "x"
   ]
  },
  {
   "cell_type": "code",
   "execution_count": 25,
   "id": "74c729af",
   "metadata": {},
   "outputs": [
    {
     "name": "stdout",
     "output_type": "stream",
     "text": [
      "1\n"
     ]
    },
    {
     "data": {
      "text/plain": [
       "[-5, -4, -3, -2, -1]"
      ]
     },
     "execution_count": 25,
     "metadata": {},
     "output_type": "execute_result"
    }
   ],
   "source": [
    "num = int(input())\n",
    "x = []\n",
    "for i in range(-5,num):\n",
    "    if i<0:\n",
    "        x.append(i)\n",
    "x"
   ]
  },
  {
   "cell_type": "code",
   "execution_count": 27,
   "id": "49b4535b",
   "metadata": {},
   "outputs": [
    {
     "name": "stdout",
     "output_type": "stream",
     "text": [
      "13\n",
      "[0, 1, 2, 3, 4, 5, 6, 7, 8, 9, 10, 11, 12]\n",
      "[-5, -4, -3, -2, -1]\n",
      "13\n",
      "5\n"
     ]
    }
   ],
   "source": [
    "num = int(input())\n",
    "even = 0\n",
    "odd = 0\n",
    "x = []\n",
    "y = []\n",
    "for i in range(-5,num):\n",
    "    if i>=0:\n",
    "        even+=1\n",
    "        x.append(i)\n",
    "    else:\n",
    "        odd+=1\n",
    "        y.append(i)\n",
    "print(x)\n",
    "print(y)\n",
    "print(even)\n",
    "print(odd)"
   ]
  },
  {
   "cell_type": "code",
   "execution_count": 33,
   "id": "60a09ecf",
   "metadata": {},
   "outputs": [
    {
     "ename": "TypeError",
     "evalue": "'>=' not supported between instances of 'tuple' and 'int'",
     "output_type": "error",
     "traceback": [
      "\u001b[1;31m---------------------------------------------------------------------------\u001b[0m",
      "\u001b[1;31mTypeError\u001b[0m                                 Traceback (most recent call last)",
      "Input \u001b[1;32mIn [33]\u001b[0m, in \u001b[0;36m<cell line: 3>\u001b[1;34m()\u001b[0m\n\u001b[0;32m      2\u001b[0m x \u001b[38;5;241m=\u001b[39m []\n\u001b[0;32m      3\u001b[0m \u001b[38;5;28;01mfor\u001b[39;00m i \u001b[38;5;129;01min\u001b[39;00m f:\n\u001b[1;32m----> 4\u001b[0m     \u001b[38;5;28;01mif\u001b[39;00m \u001b[43mi\u001b[49m\u001b[38;5;241;43m>\u001b[39;49m\u001b[38;5;241;43m=\u001b[39;49m\u001b[38;5;241;43m0\u001b[39;49m:\n\u001b[0;32m      5\u001b[0m         x\u001b[38;5;241m.\u001b[39mappend(i)\n\u001b[0;32m      6\u001b[0m x\n",
      "\u001b[1;31mTypeError\u001b[0m: '>=' not supported between instances of 'tuple' and 'int'"
     ]
    }
   ],
   "source": [
    "f = [1,2,(3,4),5,6,(),7]\n",
    "x = []\n",
    "for i in f:\n",
    "    if i>=0:\n",
    "        x.append(i)\n",
    "x"
   ]
  },
  {
   "cell_type": "code",
   "execution_count": null,
   "id": "02d9e869",
   "metadata": {},
   "outputs": [],
   "source": []
  }
 ],
 "metadata": {
  "kernelspec": {
   "display_name": "Python 3 (ipykernel)",
   "language": "python",
   "name": "python3"
  },
  "language_info": {
   "codemirror_mode": {
    "name": "ipython",
    "version": 3
   },
   "file_extension": ".py",
   "mimetype": "text/x-python",
   "name": "python",
   "nbconvert_exporter": "python",
   "pygments_lexer": "ipython3",
   "version": "3.9.12"
  }
 },
 "nbformat": 4,
 "nbformat_minor": 5
}
