{
 "cells": [
  {
   "cell_type": "code",
   "execution_count": 21,
   "id": "91bf8923",
   "metadata": {},
   "outputs": [
    {
     "name": "stdout",
     "output_type": "stream",
     "text": [
      "[1, 2, 3, 4, 5]\n",
      "[(2, 1), (1, 2), (2, 3), (4, 4), (2, 5)]\n"
     ]
    }
   ],
   "source": [
    "\n",
    "tp =    [(2, 5), (1, 2), (4, 4), (2, 3), (2, 1)]\n",
    "\n",
    "\n",
    "LIST1 =[]\n",
    "LIST2 =[]\n",
    "\n",
    "for t in tp:\n",
    "    LIST1.append(t[1],)\n",
    "\n",
    "LIST1.sort()\n",
    "print(LIST1)\n",
    "\n",
    "for l in LIST1:\n",
    "    for q in tp:\n",
    "        if l == int(q[1],):\n",
    "            LIST2.append(q)\n",
    "    \n",
    "\n",
    "print(LIST2)"
   ]
  },
  {
   "cell_type": "code",
   "execution_count": null,
   "id": "a89fe390",
   "metadata": {},
   "outputs": [],
   "source": []
  }
 ],
 "metadata": {
  "kernelspec": {
   "display_name": "Python 3 (ipykernel)",
   "language": "python",
   "name": "python3"
  },
  "language_info": {
   "codemirror_mode": {
    "name": "ipython",
    "version": 3
   },
   "file_extension": ".py",
   "mimetype": "text/x-python",
   "name": "python",
   "nbconvert_exporter": "python",
   "pygments_lexer": "ipython3",
   "version": "3.9.12"
  }
 },
 "nbformat": 4,
 "nbformat_minor": 5
}
