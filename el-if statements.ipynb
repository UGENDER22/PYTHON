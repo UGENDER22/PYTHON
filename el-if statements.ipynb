{
 "cells": [
  {
   "cell_type": "code",
   "execution_count": 7,
   "id": "0271ff0f",
   "metadata": {},
   "outputs": [
    {
     "name": "stdout",
     "output_type": "stream",
     "text": [
      "3\n",
      "3\n",
      "3\n"
     ]
    }
   ],
   "source": [
    "x=3\n",
    "for i in range((x)):\n",
    "        print(x)"
   ]
  },
  {
   "cell_type": "code",
   "execution_count": 47,
   "id": "14c3fe57",
   "metadata": {},
   "outputs": [
    {
     "name": "stdout",
     "output_type": "stream",
     "text": [
      "enter number 5\n",
      "last value is not divisible by 3\n"
     ]
    }
   ],
   "source": [
    "#last digit of number is divisible by 3 or not\n",
    "x=int(input(\"enter number \"))\n",
    "if x%3==1:\n",
    "    print(\"last value is divisible by 3\")\n",
    "elif x%3==0:\n",
    "    print(\"last value is divisible by 3\")\n",
    "else:\n",
    "    print(\"last value is not divisible by 3\")"
   ]
  },
  {
   "cell_type": "code",
   "execution_count": 76,
   "id": "03c5b18a",
   "metadata": {},
   "outputs": [
    {
     "name": "stdout",
     "output_type": "stream",
     "text": [
      "enter marks 85\n",
      "_Grade B 85\n"
     ]
    }
   ],
   "source": [
    "#20 \n",
    "x=int(input(\"enter marks \"))\n",
    "if x > 90:\n",
    "    print(\"_Grade A\",x)\n",
    "elif x > 80 and x <= 90:\n",
    "    print(\"_Grade B\",x)\n",
    "elif x >= 60 and x < 80:\n",
    "    print(\"_Grade C\",x)\n",
    "else:\n",
    "    print(\"_Grade D\",x)"
   ]
  },
  {
   "cell_type": "code",
   "execution_count": 48,
   "id": "43d2239b",
   "metadata": {},
   "outputs": [
    {
     "name": "stdout",
     "output_type": "stream",
     "text": [
      "Enter the Student Name : yogi\n",
      "Enter the Student Roll No : 42\n",
      "Enter the Obtained Percentage : 90\n",
      "yogi 42 90.0 is cleared the exam with B-Grade\n"
     ]
    }
   ],
   "source": [
    "Student_Name = str(input(\"Enter the Student Name : \"))\n",
    "Student_Roll_No = int(input(\"Enter the Student Roll No : \")) \n",
    "Obtained_Percentage = float(input(\"Enter the Obtained Percentage : \")) \n",
    "if Obtained_Percentage > 90:\n",
    "    print(Student_Name, Student_Roll_No, Obtained_Percentage, \"is cleared the exam with A-Grade\")\n",
    "elif Obtained_Percentage > 80 and Obtained_Percentage <= 90:\n",
    "    print(Student_Name, Student_Roll_No, Obtained_Percentage, \"is cleared the exam with B-Grade\")\n",
    "elif Obtained_Percentage >= 60 and Obtained_Percentage <= 80:\n",
    "    print(Student_Name, Student_Roll_No, Obtained_Percentage, \"is cleared the exam with C-Grade\")\n",
    "else:\n",
    "    print(Student_Name, Student_Roll_No, Obtained_Percentage, \"is Failed Sorry\")\n"
   ]
  },
  {
   "cell_type": "code",
   "execution_count": 62,
   "id": "1769e189",
   "metadata": {},
   "outputs": [
    {
     "name": "stdout",
     "output_type": "stream",
     "text": [
      "enter bike cost price 120000\n",
      "road tax is X 18000.0\n"
     ]
    }
   ],
   "source": [
    "#21\n",
    "CP=int(input(\"enter bike cost price \"))\n",
    "if CP>100000:\n",
    "    X=CP*(0.15)\n",
    "    print(\"road tax is X\",X)\n",
    "elif CP>50000 and CP <=100000:\n",
    "    Y=CP*(0.10)\n",
    "    print(\"road tax is Y\",Y)\n",
    "elif CP<=50000:\n",
    "    Z=CP*(0.05)\n",
    "    print(\"road tax is Z\",Z)\n",
    "else:\n",
    "    print(\"no data found\")"
   ]
  },
  {
   "cell_type": "code",
   "execution_count": 33,
   "id": "01166260",
   "metadata": {},
   "outputs": [
    {
     "name": "stdout",
     "output_type": "stream",
     "text": [
      "enter a number 90\n",
      "NO DATA FOUND\n"
     ]
    }
   ],
   "source": [
    "#22\n",
    "A=int(input(\"enter a number \"))\n",
    "if A==1:\n",
    "    print(\"sunday\")\n",
    "elif A==2:\n",
    "    print(\"monday\")\n",
    "elif A==3:\n",
    "    print(\"tuesday\")\n",
    "elif A==4:\n",
    "    print(\"wednesday\")\n",
    "elif A==5:\n",
    "    print(\"thursday\")\n",
    "elif A==6:\n",
    "    print(\"friday\")\n",
    "elif A==7:\n",
    "    print(\"saturday\")\n",
    "else:\n",
    "    print(\"NO DATA FOUND\")"
   ]
  },
  {
   "cell_type": "code",
   "execution_count": 66,
   "id": "a20b60cb",
   "metadata": {},
   "outputs": [
    {
     "data": {
      "text/plain": [
       "['python', 10, 20, 30, 40, 50]"
      ]
     },
     "execution_count": 66,
     "metadata": {},
     "output_type": "execute_result"
    }
   ],
   "source": [
    "#insert function \n",
    "X=[10,20,30,40,50]\n",
    "X.insert(0,\"python\")\n",
    "X"
   ]
  },
  {
   "cell_type": "code",
   "execution_count": 67,
   "id": "1da52159",
   "metadata": {},
   "outputs": [
    {
     "name": "stdout",
     "output_type": "stream",
     "text": [
      "True\n"
     ]
    }
   ],
   "source": [
    "#practice\n",
    "print(\"o\" in \"ocpd\")"
   ]
  },
  {
   "cell_type": "code",
   "execution_count": 72,
   "id": "f60b1e0a",
   "metadata": {},
   "outputs": [
    {
     "name": "stdout",
     "output_type": "stream",
     "text": [
      "Hello world!\n"
     ]
    }
   ],
   "source": [
    "#practice\n",
    "print(\"Hello world!\")"
   ]
  },
  {
   "cell_type": "code",
   "execution_count": null,
   "id": "be7aabcb",
   "metadata": {},
   "outputs": [],
   "source": [
    "#24\n",
    "city_name=str(input(\"city_name \"))\n",
    "if city_name == hyderabad:\n",
    "    print(\"charminar\",city_name)\n",
    "elif city_name == delhi:\n",
    "    print(\"qutab minar\",city_name)\n",
    "elif city_name == agra:\n",
    "    print(\"tajmahal\",city_name )\n",
    "elif city_name == jaipur:\n",
    "    print(\"jaipur mahal\",city_name)\n",
    "else:\n",
    "    print(\"i dont no\")"
   ]
  },
  {
   "cell_type": "code",
   "execution_count": 91,
   "id": "84fba5b5",
   "metadata": {},
   "outputs": [
    {
     "name": "stdout",
     "output_type": "stream",
     "text": [
      "enter age 34\n",
      "senior citizen\n"
     ]
    }
   ],
   "source": [
    "#25\n",
    "x=int(input(\"enter age \"))\n",
    "if x > 32:\n",
    "    print(\"senior citizen\")\n",
    "else:\n",
    "    print(\"junior citizen\")\n"
   ]
  },
  {
   "cell_type": "code",
   "execution_count": 102,
   "id": "9a446e0f",
   "metadata": {},
   "outputs": [
    {
     "name": "stdout",
     "output_type": "stream",
     "text": [
      "enter a x number90\n",
      "enter a y number89\n",
      "enter a z number88\n",
      "lowest is 88\n"
     ]
    }
   ],
   "source": [
    "#26\n",
    "x=int(input(\"enter a x number\"))\n",
    "y=int(input(\"enter a y number\"))\n",
    "z=int(input(\"enter a z number\"))\n",
    "if x<y and x<z:\n",
    "    print(\"lowest is\",x)\n",
    "elif y<x and y<z:\n",
    "    print(\"lowest is\",y)\n",
    "elif z<x and z<y:\n",
    "    print(\"lowest is\",z)\n",
    "else:\n",
    "    print(\"no data found\")"
   ]
  },
  {
   "cell_type": "code",
   "execution_count": 103,
   "id": "7139b96f",
   "metadata": {},
   "outputs": [
    {
     "name": "stdout",
     "output_type": "stream",
     "text": [
      "enter x value 7\n",
      "enter y value 2\n",
      "enter z value 8\n",
      "greatest is 8\n"
     ]
    }
   ],
   "source": [
    "#27 #29\n",
    "x=int(input(\"enter x value \"))\n",
    "y=int(input(\"enter y value \"))\n",
    "z=int(input(\"enter z value \"))\n",
    "if x>y and x>z:\n",
    "    print(\"greatest is \",x)\n",
    "elif y>x and y>z:\n",
    "    print(\"greatest is\",y)\n",
    "elif z>y and z>x:\n",
    "    print(\"greatest is\",z)\n",
    "else:\n",
    "    print(\"no data found\")"
   ]
  },
  {
   "cell_type": "code",
   "execution_count": 109,
   "id": "c4ff0f06",
   "metadata": {},
   "outputs": [
    {
     "name": "stdout",
     "output_type": "stream",
     "text": [
      "enter a number12\n",
      "divisible\n"
     ]
    }
   ],
   "source": [
    "#28\n",
    "x=int(input(\"enter a number\"))\n",
    "if x%2==0 and x%3==0:\n",
    "    print(\"divisible\")\n",
    "else:\n",
    "    print(\"not divisible\")"
   ]
  },
  {
   "cell_type": "code",
   "execution_count": 146,
   "id": "ebf4501c",
   "metadata": {},
   "outputs": [
    {
     "name": "stdout",
     "output_type": "stream",
     "text": [
      "enter alphabet letters Z\n",
      "consonants\n"
     ]
    }
   ],
   "source": [
    "#30\n",
    "vo_=str(input(\"enter alphabet letters \"))\n",
    "if vo_== 'A':\n",
    "    print(\"vowels\")\n",
    "elif vo_=='E':\n",
    "    print(\"vowels\")\n",
    "elif vo_=='I':\n",
    "    print(\"vowels\")\n",
    "elif vo_=='O':\n",
    "    print(\"vowels\")\n",
    "elif vo_=='U':\n",
    "    print(\"vowels\")\n",
    "else:\n",
    "    print(\"consonants\")\n",
    "    "
   ]
  },
  {
   "cell_type": "code",
   "execution_count": null,
   "id": "8adccfa6",
   "metadata": {},
   "outputs": [],
   "source": []
  }
 ],
 "metadata": {
  "kernelspec": {
   "display_name": "Python 3 (ipykernel)",
   "language": "python",
   "name": "python3"
  },
  "language_info": {
   "codemirror_mode": {
    "name": "ipython",
    "version": 3
   },
   "file_extension": ".py",
   "mimetype": "text/x-python",
   "name": "python",
   "nbconvert_exporter": "python",
   "pygments_lexer": "ipython3",
   "version": "3.9.12"
  }
 },
 "nbformat": 4,
 "nbformat_minor": 5
}
