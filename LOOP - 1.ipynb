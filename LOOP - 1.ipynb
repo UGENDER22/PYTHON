{
 "cells": [
  {
   "cell_type": "code",
   "execution_count": 4,
   "id": "48a09448",
   "metadata": {},
   "outputs": [
    {
     "name": "stdout",
     "output_type": "stream",
     "text": [
      "enter a number 6\n",
      "1\n",
      "2\n",
      "6\n",
      "24\n",
      "120\n",
      "720\n",
      "720 the factorial of 6\n"
     ]
    }
   ],
   "source": [
    "#factorial\n",
    "number = int(input(\"enter a number \"))\n",
    "factorial = 1\n",
    "\n",
    "if number < 0:\n",
    "    print(\"sorry negative numbers doesn't exist factorial\")\n",
    "elif number == 0:\n",
    "    print(number,\"factorial is 1\")\n",
    "else:\n",
    "    for i in range(1,number+1):\n",
    "        factorial = factorial*i\n",
    "        print(factorial)\n",
    "    print(factorial,\"the factorial of\",number)"
   ]
  },
  {
   "cell_type": "code",
   "execution_count": 4,
   "id": "d6b28520",
   "metadata": {},
   "outputs": [
    {
     "name": "stdout",
     "output_type": "stream",
     "text": [
      "enter a number 45632\n",
      "5\n"
     ]
    }
   ],
   "source": [
    "#count the no of digits in a number\n",
    "x=int(input(\"enter a number \"))\n",
    "y=str(x)\n",
    "print(len(y))"
   ]
  },
  {
   "cell_type": "code",
   "execution_count": 8,
   "id": "fb725655",
   "metadata": {},
   "outputs": [
    {
     "name": "stdout",
     "output_type": "stream",
     "text": [
      "Enter the Number135\n",
      "3\n",
      "Reminder value is 5\n",
      "Sum is 125\n",
      "num is  135\n",
      "Reminder value is 3\n",
      "Sum is 152\n",
      "num is  13\n",
      "Reminder value is 1\n",
      "Sum is 153\n",
      "num is  1\n",
      "0\n",
      "Original Number is : 135\n",
      "Not armstrong number\n"
     ]
    }
   ],
   "source": [
    "#amstrong number\n",
    "num=int(input(\"Enter the Number\"))\n",
    "u=len(str(num))\n",
    "print(u)\n",
    "sum=0\n",
    "m=num\n",
    "while num!=0:\n",
    " rem=num%10\n",
    " print(\"Reminder value is\",rem)\n",
    " sum=sum+(rem**u)\n",
    " print(\"Sum is\",sum)\n",
    " print(\"num is \",num)\n",
    " num=num//10\n",
    "print(num)\n",
    "print(\"Original Number is :\",m)\n",
    "if m==sum:\n",
    " print(\"Armstrong number\")\n",
    "else:\n",
    " print(\"Not armstrong number\")"
   ]
  },
  {
   "cell_type": "code",
   "execution_count": 40,
   "id": "c12717bf",
   "metadata": {},
   "outputs": [
    {
     "name": "stdout",
     "output_type": "stream",
     "text": [
      "1 1 2 3 5 8 13 21 34 "
     ]
    }
   ],
   "source": [
    "#fibonacci from 1 to 50\n",
    "a,b=0,1\n",
    "\n",
    "while b<50:\n",
    "    print(b,end=\" \")\n",
    "    a,b = b,a+b\n",
    "   \n"
   ]
  },
  {
   "cell_type": "code",
   "execution_count": 48,
   "id": "0cfd0c93",
   "metadata": {},
   "outputs": [
    {
     "name": "stdout",
     "output_type": "stream",
     "text": [
      "enter a natural number 5\n",
      "sum is  1\n",
      "sum is  3\n",
      "sum is  6\n",
      "sum is  10\n",
      "sum is  15\n"
     ]
    }
   ],
   "source": [
    "#sum of n natural numbers\n",
    "n=int(input(\"enter a natural number \"))\n",
    "sum=0\n",
    "for i in range(1,n+1):\n",
    "    sum=sum+i\n",
    "    print(\"sum is \",sum)\n",
    "   "
   ]
  },
  {
   "cell_type": "code",
   "execution_count": 5,
   "id": "084eae15",
   "metadata": {},
   "outputs": [
    {
     "name": "stdout",
     "output_type": "stream",
     "text": [
      "enter a positive number1\n",
      "enter another positive number9\n",
      "the prime numbers in range are \n",
      "2\n",
      "3\n",
      "5\n",
      "7\n"
     ]
    }
   ],
   "source": [
    "#prime number\n",
    "x=int(input(\"enter a positive number\"))\n",
    "y=int(input(\"enter another positive number\"))\n",
    "print(\"the prime numbers in range are \")\n",
    "for number in range(x,y):\n",
    "    if number>1:\n",
    "        for i in range(2,number):\n",
    "            if(number%i)==0:\n",
    "                break\n",
    "        else:\n",
    "                print(number)"
   ]
  },
  {
   "cell_type": "code",
   "execution_count": 50,
   "id": "da6759ab",
   "metadata": {},
   "outputs": [
    {
     "name": "stdout",
     "output_type": "stream",
     "text": [
      "enter natural number 5\n",
      "the sum is  1\n",
      "the sum is  3\n",
      "the sum is  6\n",
      "the sum is  10\n",
      "the sum is  15\n"
     ]
    }
   ],
   "source": [
    "#sum of n natural numbers using while loop\n",
    "n=int(input(\"enter natural number \"))\n",
    "sum=0\n",
    "i=1\n",
    "while i<=n:\n",
    "    sum=sum+i\n",
    "    i=i+1\n",
    "    print(\"the sum is \",sum)"
   ]
  },
  {
   "cell_type": "code",
   "execution_count": 12,
   "id": "2c8879bb",
   "metadata": {},
   "outputs": [
    {
     "name": "stdout",
     "output_type": "stream",
     "text": [
      "enter a positive number 1\n",
      "enter anotherpositive number 15\n",
      "the prime numbers are in range \n",
      "2\n",
      "3\n",
      "5\n",
      "7\n"
     ]
    }
   ],
   "source": [
    "#prime number in certain interval\n",
    "x=int(input(\"enter a positive number \"))\n",
    "y=int(input(\"enter anotherpositive number \"))\n",
    "print(\"the prime numbers are in range \")\n",
    "for number in range(1,10):\n",
    "    if number>1:\n",
    "        for i in range(2,number):\n",
    "            if(number%i)==0:\n",
    "                break\n",
    "        else:\n",
    "                print(number)"
   ]
  },
  {
   "cell_type": "code",
   "execution_count": 35,
   "id": "1de356b5",
   "metadata": {},
   "outputs": [
    {
     "name": "stdout",
     "output_type": "stream",
     "text": [
      "enter a number 18\n",
      "not a prime number\n"
     ]
    }
   ],
   "source": [
    "#check whether number is prime number or not\n",
    "x=int(input(\"enter a number \"))\n",
    "\n",
    "for i in range(1,x):\n",
    "    if x%i==0:\n",
    "        print(\"not a prime number\")\n",
    "        break\n",
    "else:\n",
    "    print(x,\"prime\")\n",
    "    "
   ]
  },
  {
   "cell_type": "code",
   "execution_count": 38,
   "id": "2e85669e",
   "metadata": {},
   "outputs": [
    {
     "name": "stdout",
     "output_type": "stream",
     "text": [
      "what is a length of fibonacci number 8\n",
      "0 1 1 2 3 5 8 13 "
     ]
    }
   ],
   "source": [
    "#length of fibonacci sequence\n",
    "n=int(input(\"what is a length of fibonacci number \"))\n",
    "\n",
    "n1=0\n",
    "n2=1\n",
    "count=2\n",
    "\n",
    "if n<0:\n",
    "    print(\"enter positive values\")\n",
    "elif n==1:\n",
    "    print(n1)\n",
    "else:\n",
    "    print(n1,end=\" \")\n",
    "    print(n2,end=\" \")\n",
    "while count<n:\n",
    "    n3=n1+n2\n",
    "    print(n3,end=\" \")\n",
    "    count+=1\n",
    "    n1=n2\n",
    "    n2=n3"
   ]
  },
  {
   "cell_type": "code",
   "execution_count": 55,
   "id": "7f4774cb",
   "metadata": {},
   "outputs": [
    {
     "name": "stdout",
     "output_type": "stream",
     "text": [
      "enter a natural number 5\n",
      "1 5 14 30 55 "
     ]
    }
   ],
   "source": [
    "#sum of squares of n natural numbers\n",
    "n=int(input(\"enter a natural number \"))\n",
    "sum=0\n",
    "for i in range(1,n+1):\n",
    "    sum+=(i*i)\n",
    "    print(sum,end=\" \")\n",
    "    "
   ]
  },
  {
   "cell_type": "code",
   "execution_count": 56,
   "id": "621a0bf0",
   "metadata": {},
   "outputs": [
    {
     "name": "stdout",
     "output_type": "stream",
     "text": [
      "enter a natual number 2\n",
      "1 9 "
     ]
    }
   ],
   "source": [
    "#sum of cubes of n natural numbers\n",
    "n=int(input(\"enter a natual number \"))\n",
    "sum=0\n",
    "for i in range(1,n+1):\n",
    "    sum+=(i*i*i)\n",
    "    print(sum,end=\" \")"
   ]
  },
  {
   "cell_type": "code",
   "execution_count": 9,
   "id": "9d2f89c7",
   "metadata": {},
   "outputs": [
    {
     "name": "stdout",
     "output_type": "stream",
     "text": [
      "0 1 2 4 5 "
     ]
    }
   ],
   "source": [
    "#40 print 1 to 6 except 3 and 6\n",
    "for i in range(0,6):  \n",
    "    if i%3!=0:\n",
    "        print(i,end=\" \")\n",
    "    elif i==0:\n",
    "            print(i,end=\" \")"
   ]
  },
  {
   "cell_type": "code",
   "execution_count": 15,
   "id": "be945050",
   "metadata": {},
   "outputs": [
    {
     "name": "stdout",
     "output_type": "stream",
     "text": [
      "enter a number758\n",
      "reverse of given number 8\n",
      "758 not a palindrome\n",
      "reverse of given number 85\n",
      "758 not a palindrome\n",
      "reverse of given number 857\n",
      "758 not a palindrome\n"
     ]
    }
   ],
   "source": [
    "#check palindrome and reverse a number\n",
    "n=int(input(\"enter a number\"))\n",
    "x=n\n",
    "rev=0\n",
    "while x>0:\n",
    "    r=x%10\n",
    "    rev=rev*10+r\n",
    "    x=x//10\n",
    "    print(\"reverse of given number\",rev)\n",
    "    if rev==n:\n",
    "        print(n,\" is a palindrome\")\n",
    "    else:\n",
    "        print(n,\"not a palindrome\")\n"
   ]
  },
  {
   "cell_type": "markdown",
   "id": "d77e1d4c",
   "metadata": {},
   "source": [
    " "
   ]
  },
  {
   "cell_type": "code",
   "execution_count": 19,
   "id": "6af0c87a",
   "metadata": {},
   "outputs": [
    {
     "name": "stdout",
     "output_type": "stream",
     "text": [
      "FIZZ BUZZ FIZZ FIZZ BUZZ FIZZ FIZZ FIZZ BUZZ FIZZ FIZZ BUZZ FIZZ FIZZ FIZZ BUZZ FIZZ FIZZ BUZZ FIZZ FIZZ FIZZ BUZZ "
     ]
    }
   ],
   "source": [
    "#41 \n",
    "for i in range(1,51):\n",
    "    if i%3==0:\n",
    "        print(\"FIZZ\",end=\" \")\n",
    "    elif i%5==0:\n",
    "        print(\"BUZZ\",end=\" \")\n",
    "    elif i%3==0 and i%5==0:\n",
    "        print(\"FIZZBUZZ\",end=\" \")"
   ]
  },
  {
   "cell_type": "code",
   "execution_count": 20,
   "id": "629516a7",
   "metadata": {},
   "outputs": [
    {
     "name": "stdout",
     "output_type": "stream",
     "text": [
      "enter a number254632\n"
     ]
    }
   ],
   "source": [
    "#descending order\n",
    "n=int(input(\"enter a number\"))\n",
    "x=n\n",
    "sum=0\n",
    "while x>n:\n",
    "    print(n)\n",
    "    \n",
    "    "
   ]
  },
  {
   "cell_type": "code",
   "execution_count": 37,
   "id": "7d4ab249",
   "metadata": {},
   "outputs": [
    {
     "name": "stdout",
     "output_type": "stream",
     "text": [
      "7 14 21 28 35 42 49 "
     ]
    }
   ],
   "source": [
    "#multiple of 7\n",
    "for i in range(1,8):\n",
    "    7*i==7\n",
    "    print(7*i,end=\" \")\n"
   ]
  },
  {
   "cell_type": "code",
   "execution_count": null,
   "id": "bddf7c41",
   "metadata": {},
   "outputs": [],
   "source": [
    "#"
   ]
  }
 ],
 "metadata": {
  "kernelspec": {
   "display_name": "Python 3 (ipykernel)",
   "language": "python",
   "name": "python3"
  },
  "language_info": {
   "codemirror_mode": {
    "name": "ipython",
    "version": 3
   },
   "file_extension": ".py",
   "mimetype": "text/x-python",
   "name": "python",
   "nbconvert_exporter": "python",
   "pygments_lexer": "ipython3",
   "version": "3.9.12"
  }
 },
 "nbformat": 4,
 "nbformat_minor": 5
}
