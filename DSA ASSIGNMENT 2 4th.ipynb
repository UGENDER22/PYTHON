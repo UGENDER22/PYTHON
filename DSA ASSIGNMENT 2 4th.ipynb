{
 "cells": [
  {
   "cell_type": "code",
   "execution_count": 7,
   "id": "0c9e9ea5",
   "metadata": {},
   "outputs": [
    {
     "name": "stdout",
     "output_type": "stream",
     "text": [
      "20\n",
      "90\n"
     ]
    }
   ],
   "source": [
    "#Find a peak element which is not smaller than its neighbours\n",
    "\n",
    "def Peak_elements(l):\n",
    "    l1=[]\n",
    "    n=len(l)\n",
    "    if l[0]>l[1]:\n",
    "        l1.append(l[0])\n",
    "    if l[n-1]>l[n-2]:\n",
    "        l1.append(l[n-1])\n",
    "    else:\n",
    "        for i in range(1,n-1):\n",
    "            if l[i-1]<l[i] and l[i+1]<l[i]:\n",
    "                l1.append(l[i])\n",
    "  \n",
    "    for i in l1:\n",
    "         print(i)\n",
    "l=[10, 20, 15, 2, 23, 90, 67]\n",
    "Peak_elements(l)"
   ]
  }
 ],
 "metadata": {
  "kernelspec": {
   "display_name": "Python 3 (ipykernel)",
   "language": "python",
   "name": "python3"
  },
  "language_info": {
   "codemirror_mode": {
    "name": "ipython",
    "version": 3
   },
   "file_extension": ".py",
   "mimetype": "text/x-python",
   "name": "python",
   "nbconvert_exporter": "python",
   "pygments_lexer": "ipython3",
   "version": "3.9.12"
  }
 },
 "nbformat": 4,
 "nbformat_minor": 5
}
